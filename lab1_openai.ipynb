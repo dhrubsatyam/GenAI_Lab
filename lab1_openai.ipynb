{
 "cells": [
  {
   "cell_type": "code",
   "execution_count": 45,
   "id": "1fefccd9",
   "metadata": {},
   "outputs": [],
   "source": [
    "# pip install openai"
   ]
  },
  {
   "cell_type": "code",
   "execution_count": 11,
   "id": "dcc6f4e0",
   "metadata": {},
   "outputs": [],
   "source": [
    "import os\n",
    "import requests\n",
    "from dotenv import load_dotenv\n",
    "\n",
    "from bs4 import BeautifulSoup\n",
    "from IPython.display import Markdown, display\n",
    "from openai import OpenAI"
   ]
  },
  {
   "cell_type": "code",
   "execution_count": 12,
   "id": "103f375b",
   "metadata": {},
   "outputs": [],
   "source": [
    "#Load environment variables from .env file\n",
    "load_dotenv(override=True)\n",
    "api_key = os.getenv('OPENAI_API_KEY')"
   ]
  },
  {
   "cell_type": "code",
   "execution_count": 13,
   "id": "05a170dd",
   "metadata": {},
   "outputs": [
    {
     "name": "stdout",
     "output_type": "stream",
     "text": [
      "API key found and looks good\n"
     ]
    }
   ],
   "source": [
    "#Check if the API key is present\n",
    "\n",
    "if not api_key:\n",
    "    print(\"No API key found - check your .env file\")\n",
    "elif not api_key.startswith(\"sk-proj-\"):\n",
    "    print(\"verify your api key. It should start with sk-proj-\")\n",
    "elif api_key.strip() != api_key:\n",
    "    print(\"You have extra spaces in your API Key, be careful while copying and pasting\")\n",
    "\n",
    "else:\n",
    "    print(\"API key found and looks good\")\n"
   ]
  },
  {
   "cell_type": "code",
   "execution_count": 14,
   "id": "306c10ad",
   "metadata": {},
   "outputs": [],
   "source": [
    "headers = {\n",
    "        'User-Agent': 'Mozilla/5.0 (Windows NT 10.0; Win64; x64) AppleWebKit/537.36 (KHTML, like Gecko) Chrome/100.0.4896.88 Safari/537.36',\n",
    "        'Accept-Language': 'en-US,en;q=0.9',\n",
    "        # Add other headers as needed, e.g., 'Referer', 'Cookie', etc.\n",
    "    }"
   ]
  },
  {
   "cell_type": "code",
   "execution_count": 20,
   "id": "502b3efe",
   "metadata": {},
   "outputs": [],
   "source": [
    "# Write a function to fetch and parse a website\n",
    "\n",
    "def get_website(url):\n",
    "    response = requests.get(url, headers=headers)\n",
    "    soup = BeautifulSoup(response.content, 'html.parser')\n",
    "    title = soup.title.string if soup.title else \"No title found for this website!\"\n",
    "\n",
    "    #remove irrelevant tags - script, styles, images\n",
    "\n",
    "    for irrelevant in soup.body([\"script\", \"style\", \"images\"]):\n",
    "        irrelevant.decompose()\n",
    "\n",
    "    text = soup.body.get_text(separator=\"\\n\", strip=True)\n",
    "    return title, text\n"
   ]
  },
  {
   "cell_type": "code",
   "execution_count": 21,
   "id": "92956ed4",
   "metadata": {},
   "outputs": [
    {
     "data": {
      "text/plain": [
       "('IMDb: Ratings, Reviews, and Where to Watch the Best Movies & TV Shows',\n",
       " 'Menu\\nMovies\\nRelease calendar\\nTop 250 movies\\nMost popular movies\\nBrowse movies by genre\\nTop box office\\nShowtimes & tickets\\nMovie news\\nIndia movie spotlight\\nTV shows\\nWhat\\'s on TV & streaming\\nTop 250 TV shows\\nMost popular TV shows\\nBrowse TV shows by genre\\nTV news\\nWatch\\nWhat to watch\\nLatest trailers\\nIMDb Originals\\nIMDb Picks\\nIMDb Spotlight\\nFamily entertainment guide\\nIMDb Podcasts\\nAwards & events\\nOscars\\nEmmys\\nSan Diego Comic-Con\\nSummer Watch Guide\\nToronto Int\\'l Film Festival\\nSTARmeter Awards\\nAwards Central\\nFestival Central\\nAll events\\nCelebs\\nBorn today\\nMost popular celebs\\nCelebrity news\\nCommunity\\nHelp center\\nContributor zone\\nPolls\\nFor industry professionals\\nLanguage\\nEnglish (United States)\\nLanguage\\nFully supported\\nEnglish (United States)\\nPartially supported\\nFrançais (Canada)\\nFrançais (France)\\nDeutsch (Deutschland)\\nहिंदी (भारत)\\nItaliano (Italia)\\nPortuguês (Brasil)\\nEspañol (España)\\nEspañol (México)\\nAll\\nAll\\nWatchlist\\nSign in\\nEN\\nFully supported\\nEnglish (United States)\\nPartially supported\\nFrançais (Canada)\\nFrançais (France)\\nDeutsch (Deutschland)\\nहिंदी (भारत)\\nItaliano (Italia)\\nPortuguês (Brasil)\\nEspañol (España)\\nEspañol (México)\\nUse app\\n1:45\\nWill Lady Gaga Appear in \"Wednesday\" Season 2?\\n1:45\\nWatch the Part 2 Trailer\\n34:33\\nMeet IMDb\\'s \"Stars to Watch\"\\n34:33\\nHear From These Rising Stars in Hollywood\\n2:06\\nTimothée Chalamet Dreams Big in \\'Marty Supreme\\'\\n2:06\\nWatch the Teaser Trailer\\n5:39\\n\"Wednesday\" Stars on Family Bonds and Latino Horror Roots\\n5:39\\nWatch Now\\n1:49\\nCillian Murphy Stars in \\'Steve\\'\\n1:49\\nWatch the Trailer\\n5:05\\nHow Well Does the \\'Freakier Friday\\' Cast Know Each Other?\\n5:05\\nWatch Now\\n1:56\\n\\'The Man in My Basement\\'\\n1:56\\nWatch the Trailer\\n0:51\\n\\'Clueless\\' Icon Alicia Silverstone Through the Years\\n0:51\\nWatch Now\\n2:01\\n\"Upload\" Returns for a Final Season\\n2:01\\nComing to Prime Video Aug. 25\\n2:16\\nMark Ruffalo Stars in \"Task\"\\n2:16\\nComing to HBO Max Sept. 7\\n2:19\\n\\'Plainclothes\\'\\n2:19\\nWatch the Trailer\\n2:01\\nDev Patel Stars in \\'Rabbit Trap\\'\\n2:01\\nWatch the Trailer\\n1:45\\n\"Haunted Hotel\"\\n1:45\\nWatch the First Trailer\\n2:35\\n\\'Eleanor the Great\\'\\n2:35\\nWatch the Trailer\\n1:35\\nLily James in \\'Swiped\\'\\n1:35\\nWatch the Trailer\\nUp next\\n1:35\\nLily James in \\'Swiped\\'\\nWatch the Trailer\\n1:45\\nWill Lady Gaga Appear in \"Wednesday\" Season 2?\\nWatch the Part 2 Trailer\\n34:33\\nMeet IMDb\\'s \"Stars to Watch\"\\nHear From These Rising Stars in Hollywood\\n2:06\\nTimothée Chalamet Dreams Big in \\'Marty Supreme\\'\\nWatch the Teaser Trailer\\n5:39\\n\"Wednesday\" Stars on Family Bonds and Latino Horror Roots\\nWatch Now\\n1:49\\nCillian Murphy Stars in \\'Steve\\'\\nWatch the Trailer\\nBrowse trailers\\nFeatured today\\nPhotos\\n\\'Saiyaara\\' Co-Stars Receive IMDb STARmeter Awards\\nSee the gallery\\nList\\nStaff Picks: What to Watch in August\\nSee our picks\\nList\\nNew Horror Releases in August 2025\\nSee the calendar\\nPhotos\\nThese Stars Are on the Rise\\nSee the gallery\\nPhotos\\n21st Century Scream Queens\\nSee the gallery\\nList\\nTheatrical Releases You Can Stream or Rent\\nSee the list\\nPhotos\\nPhotos We Love\\nSee the gallery\\nList\\nTop 10 Body-Swap Comedies by IMDb Ratings\\nSee the list\\nList\\nTV Tracker: Renewed and Canceled Shows\\nCheck the status\\nMost popular celebrities\\nWhat to watch\\nGet more recommendations\\nExclusive videos\\nIMDb Originals\\nCelebrity interviews, trending entertainment stories, and expert analysis\\n0:51\\nAlicia Silverstone Through the Years\\nWatch now\\n34:33\\nMeet IMDb\\'s Latest \"Stars to Watch\"\\nWatch our interview\\n5:39\\n\"Wednesday\" Stars on Family Bonds and Latino Horror Roots\\nWatch the interview\\n3:16\\nThrowback CD Picks From the \"Twisted Metal\" Cast\\nWatch now\\n7:47\\nThe \\'I Know What You Did Last Summer\\' Cast Get Quizzed\\nWatch now\\n2:49\\nCounting the Cameos in \\'Happy Gilmore 2\\'\\nWatch now\\n5:05\\nHow Well Does the \\'Freakier Friday\\' Cast Know Each Other?\\nWatch now\\nExplore what’s streaming\\nSet your preferred services\\nExplore Movies & TV shows\\nMore to explore\\nRecently viewed\\nYou have no recently viewed pages\\nGet the IMDb App\\nSign in for more access\\nSign in for more access\\nFollow IMDb on social\\nGet the IMDb App\\nFor Android and iOS\\nHelp\\nSite Index\\nIMDbPro\\nBox Office Mojo\\nLicense IMDb Data\\nPress Room\\nAdvertising\\nJobs\\nConditions of Use\\nPrivacy Policy\\nYour Ads Privacy Choices\\nIMDb, an Amazon company\\n© 1990-\\n2025\\nby IMDb.com, Inc.\\nBack to top')"
      ]
     },
     "execution_count": 21,
     "metadata": {},
     "output_type": "execute_result"
    }
   ],
   "source": [
    "get_website(\"https://www.imdb.com/\")"
   ]
  },
  {
   "cell_type": "code",
   "execution_count": null,
   "id": "1ade1414",
   "metadata": {},
   "outputs": [],
   "source": [
    "\"\"\"\n",
    "Prompts:\n",
    "\n",
    "User Prompt: User prompt provides the input data for the AI to process.\n",
    "\n",
    "    e.g.: The content of this website is as follows, please provide a short summary\n",
    "    of this website in markdown.\n",
    "\n",
    "\n",
    "\n",
    "\n",
    "System Prompt: Sets the behaviour of the AI\n",
    "\n",
    "    e.g.: You are an assistant that analyzes the contents of a website and provides a \n",
    "    short summary, ignoring text that might be for navigation. Respond in markdown\n",
    "  \n",
    "\n",
    "\"\"\"\n",
    "# system prompt, user prompt, website text, we have to use api call to do the task  \n",
    "\n",
    "system_prompt = \"You are an assistant that analyzes the contents of a website and provides a short summary, ignoring text that might be for navigation. Respond in markdown.\"\n",
    "\n",
    "def create_user_prompt(title, text):\n",
    "    user_prompt = f\"You are looking at a website titled {title}\"\n",
    "    user_prompt += \"\\nThe content of this website is as follows. please provide a short summary of this website in markdown.\\n\"\n",
    "    user_prompt += text\n",
    "\n",
    "    return user_prompt\n",
    "\n",
    "def create_messages(system_prompt, user_prompt):\n",
    "    return[\n",
    "        {\"role\":\"system\", \"content\":system_prompt},\n",
    "        {\"role\":\"user\", \"content\":user_prompt}\n",
    "\n",
    "    ]\n",
    "\n",
    "def summarize(url):\n",
    "\n",
    "\n",
    "    title, text = get_website(url)\n",
    "    user_prompt = create_user_prompt(title,text)\n",
    "    messages = create_messages(system_prompt,user_prompt)\n",
    "    openai = OpenAI(api_key=api_key)\n",
    "    response = openai.chat.completions.create(\n",
    "        model = \"gpt-4o-mini\",\n",
    "        messages=messages\n",
    "    )\n",
    "    return response.choices[0].message.content\n",
    "\n"
   ]
  },
  {
   "cell_type": "code",
   "execution_count": 42,
   "id": "e319d53c",
   "metadata": {},
   "outputs": [],
   "source": [
    "\n",
    "def display_summary(url):\n",
    "    summary = summarize(url)\n",
    "    display(Markdown(summary))"
   ]
  },
  {
   "cell_type": "code",
   "execution_count": 44,
   "id": "fb5b707f",
   "metadata": {},
   "outputs": [
    {
     "data": {
      "text/markdown": [
       "# IMDb Website Summary\n",
       "\n",
       "IMDb (Internet Movie Database) is a comprehensive online platform dedicated to movies and TV shows. It features:\n",
       "\n",
       "- **Movie Information**: Release calendars, top and most popular movie lists, genre browsing, box office stats, and showtimes.\n",
       "- **TV Show Details**: What's currently airing, top and most popular TV shows, genre categories, and TV news.\n",
       "- **Watch Options**: Recommendations on what to watch, trailers, and exclusive content from IMDb Originals and podcasts.\n",
       "- **Awards and Events**: Coverage of major awards like the Oscars and Emmys, including festival insights.\n",
       "- **Celebrity News**: Updates on popular celebrities and industry professionals.\n",
       "\n",
       "Overall, IMDb serves as a go-to resource for entertainment enthusiasts looking for ratings, reviews, trailers, and where to watch their favorite films and shows."
      ],
      "text/plain": [
       "<IPython.core.display.Markdown object>"
      ]
     },
     "metadata": {},
     "output_type": "display_data"
    }
   ],
   "source": [
    "display_summary(\"https://www.imdb.com/\")"
   ]
  },
  {
   "cell_type": "code",
   "execution_count": null,
   "id": "1153d120",
   "metadata": {},
   "outputs": [],
   "source": [
    "\"\"\"\n",
    "H/W: create an email summarizer, weather forecast, etc\n",
    "\n",
    "\"\"\""
   ]
  }
 ],
 "metadata": {
  "kernelspec": {
   "display_name": "llms",
   "language": "python",
   "name": "python3"
  },
  "language_info": {
   "codemirror_mode": {
    "name": "ipython",
    "version": 3
   },
   "file_extension": ".py",
   "mimetype": "text/x-python",
   "name": "python",
   "nbconvert_exporter": "python",
   "pygments_lexer": "ipython3",
   "version": "3.13.5"
  }
 },
 "nbformat": 4,
 "nbformat_minor": 5
}
