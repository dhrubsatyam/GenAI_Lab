{
 "cells": [
  {
   "cell_type": "code",
   "execution_count": 32,
   "id": "7182e07f",
   "metadata": {},
   "outputs": [],
   "source": [
    "# pip install ollama"
   ]
  },
  {
   "cell_type": "code",
   "execution_count": 5,
   "id": "e80b87b8",
   "metadata": {},
   "outputs": [],
   "source": [
    "import requests\n",
    "import ollama\n",
    "from openai import OpenAI\n"
   ]
  },
  {
   "cell_type": "code",
   "execution_count": 9,
   "id": "56b84d1e",
   "metadata": {},
   "outputs": [
    {
     "name": "stdout",
     "output_type": "stream",
     "text": [
      "Photosynthesis is the process by which plants, algae, and some bacteria convert light energy from the sun into chemical energy in the form of glucose (sugar). This process is essential for life on Earth, as it provides energy and organic compounds for plants to grow and develop.\n",
      "\n",
      "During photosynthesis, plants use their leaves to absorb carbon dioxide and water from the atmosphere and soil. They then use energy from sunlight to convert these substances into glucose and oxygen through a series of chemical reactions. The overall equation for photosynthesis is:\n",
      "\n",
      "6 CO2 + 6 H2O + light energy → C6H12O6 (glucose) + 6 O2\n",
      "\n",
      "Photosynthesis occurs in specialized organelles called chloroplasts, which contain the pigment chlorophyll that absorbs light energy. Chlorophyll reflects green light and absorbs blue and red light, which is then used to power photosynthesis.\n",
      "\n",
      "There are two types of photosynthesis:\n",
      "\n",
      "1. **C3 photosynthesis**: This type of photosynthesis occurs in plants such as wheat, corn, and sugarcane, where carbon dioxide enters the leaf through stomata (small openings on the surface of leaves).\n",
      "2. **C4 photosynthesis**: This type of photosynthesis occurs in plants such as corn, sugarcane, and sorghum, which use a different pathway to fix carbon dioxide.\n",
      "\n",
      "Photosynthesis is crucial for life on Earth because it:\n",
      "\n",
      "1. Provides energy for plants to grow and develop.\n",
      "2. Produces oxygen as a byproduct, which is essential for the survival of most living organisms.\n",
      "3. Supports aquatic ecosystems by providing organic compounds for aquatic plants.\n",
      "4. Influences the Earth's climate by removing carbon dioxide from the atmosphere.\n",
      "\n",
      "In summary, photosynthesis is the process by which plants convert light energy into chemical energy, producing glucose and oxygen that sustain life on Earth.\n"
     ]
    }
   ],
   "source": [
    "OLLAMA_API = \"http://localhost:11434/api/chat\"\n",
    "HEADERS = {\"Content-Type\": \"application/json\"}\n",
    "MODEL = \"llama3.2\"\n",
    "# MODEL = \"deepseek-r1:1.5b\"\n",
    "# !ollama pull name-of-model\n",
    "\n",
    "#giving only user prompt because we are looking an answer to the question. For behavioral responses, need to set system prompt\n",
    "messages = [\n",
    "    {\"role\": \"user\", \"content\": \"What is photosynthesis?\"}\n",
    "]\n",
    "\n",
    "payload = {\n",
    "    \"model\": MODEL,\n",
    "    \"messages\": messages,\n",
    "    \"stream\": False\n",
    "}\n",
    "\n",
    "response = requests.post(OLLAMA_API, json=payload, headers=HEADERS)\n",
    "print(response.json()['message']['content'])\n",
    "\n",
    "\n",
    "# response = ollama.chat(model=MODEL, messages=messages)\n",
    "# print(response['message']['content'])\n",
    "\n"
   ]
  },
  {
   "cell_type": "code",
   "execution_count": 7,
   "id": "ada0f40e",
   "metadata": {},
   "outputs": [
    {
     "name": "stdout",
     "output_type": "stream",
     "text": [
      "{'error': 'json: cannot unmarshal object into Go struct field ChatRequest.messages of type []api.Message'}\n"
     ]
    }
   ],
   "source": [
    "print(response.json())"
   ]
  },
  {
   "cell_type": "code",
   "execution_count": 8,
   "id": "90fe5664",
   "metadata": {},
   "outputs": [],
   "source": [
    "# summary = response['message']['content']"
   ]
  },
  {
   "cell_type": "code",
   "execution_count": null,
   "id": "9b0df0b2",
   "metadata": {},
   "outputs": [],
   "source": []
  }
 ],
 "metadata": {
  "kernelspec": {
   "display_name": "llms",
   "language": "python",
   "name": "python3"
  },
  "language_info": {
   "codemirror_mode": {
    "name": "ipython",
    "version": 3
   },
   "file_extension": ".py",
   "mimetype": "text/x-python",
   "name": "python",
   "nbconvert_exporter": "python",
   "pygments_lexer": "ipython3",
   "version": "3.13.5"
  }
 },
 "nbformat": 4,
 "nbformat_minor": 5
}
